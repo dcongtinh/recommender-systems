{
 "metadata": {
  "language_info": {
   "codemirror_mode": {
    "name": "ipython",
    "version": 3
   },
   "file_extension": ".py",
   "mimetype": "text/x-python",
   "name": "python",
   "nbconvert_exporter": "python",
   "pygments_lexer": "ipython3",
   "version": "3.6.8-final"
  },
  "orig_nbformat": 2,
  "kernelspec": {
   "name": "python3",
   "display_name": "Python 3.6.8 64-bit",
   "metadata": {
    "interpreter": {
     "hash": "aee8b7b246df8f9039afb4144a1f6fd8d2ca17a180786b69acc140d282b71a49"
    }
   }
  }
 },
 "nbformat": 4,
 "nbformat_minor": 2,
 "cells": [
  {
   "cell_type": "code",
   "execution_count": 1,
   "metadata": {},
   "outputs": [
    {
     "output_type": "execute_result",
     "data": {
      "text/plain": [
       "[['Sua', 'Cu_hanh', 'Banh_quy', 'Keo', 'Trung', 'Sua_chua'],\n",
       " ['Thuoc_la', 'Cu_hanh', 'Banh_quy', 'Keo', 'Trung', 'Sua_chua'],\n",
       " ['Sua', 'Tao', 'Keo', 'Trung'],\n",
       " ['Sua', 'Bo', 'Bap', 'Keo', 'Sua_chua'],\n",
       " ['Bap', 'Cu_hanh', 'Keo', 'Kem', 'Trung']]"
      ]
     },
     "metadata": {},
     "execution_count": 1
    }
   ],
   "source": [
    "dt = [['Sua', 'Cu_hanh', 'Banh_quy', 'Keo', 'Trung', 'Sua_chua'],\n",
    "      ['Thuoc_la', 'Cu_hanh', 'Banh_quy', 'Keo', 'Trung', 'Sua_chua'],\n",
    "      ['Sua', 'Tao', 'Keo', 'Trung'],\n",
    "      ['Sua', 'Bo', 'Bap', 'Keo', 'Sua_chua'],\n",
    "      ['Bap', 'Cu_hanh', 'Keo', 'Kem', 'Trung']]\n",
    "dt"
   ]
  },
  {
   "cell_type": "code",
   "execution_count": 2,
   "metadata": {},
   "outputs": [
    {
     "output_type": "execute_result",
     "data": {
      "text/plain": [
       "   Banh_quy    Bap     Bo  Cu_hanh    Kem   Keo    Sua  Sua_chua    Tao  \\\n",
       "0      True  False  False     True  False  True   True      True  False   \n",
       "1      True  False  False     True  False  True  False      True  False   \n",
       "2     False  False  False    False  False  True   True     False   True   \n",
       "3     False   True   True    False  False  True   True      True  False   \n",
       "4     False   True  False     True   True  True  False     False  False   \n",
       "\n",
       "   Thuoc_la  Trung  \n",
       "0     False   True  \n",
       "1      True   True  \n",
       "2     False   True  \n",
       "3     False  False  \n",
       "4     False   True  "
      ],
      "text/html": "<div>\n<style scoped>\n    .dataframe tbody tr th:only-of-type {\n        vertical-align: middle;\n    }\n\n    .dataframe tbody tr th {\n        vertical-align: top;\n    }\n\n    .dataframe thead th {\n        text-align: right;\n    }\n</style>\n<table border=\"1\" class=\"dataframe\">\n  <thead>\n    <tr style=\"text-align: right;\">\n      <th></th>\n      <th>Banh_quy</th>\n      <th>Bap</th>\n      <th>Bo</th>\n      <th>Cu_hanh</th>\n      <th>Kem</th>\n      <th>Keo</th>\n      <th>Sua</th>\n      <th>Sua_chua</th>\n      <th>Tao</th>\n      <th>Thuoc_la</th>\n      <th>Trung</th>\n    </tr>\n  </thead>\n  <tbody>\n    <tr>\n      <th>0</th>\n      <td>True</td>\n      <td>False</td>\n      <td>False</td>\n      <td>True</td>\n      <td>False</td>\n      <td>True</td>\n      <td>True</td>\n      <td>True</td>\n      <td>False</td>\n      <td>False</td>\n      <td>True</td>\n    </tr>\n    <tr>\n      <th>1</th>\n      <td>True</td>\n      <td>False</td>\n      <td>False</td>\n      <td>True</td>\n      <td>False</td>\n      <td>True</td>\n      <td>False</td>\n      <td>True</td>\n      <td>False</td>\n      <td>True</td>\n      <td>True</td>\n    </tr>\n    <tr>\n      <th>2</th>\n      <td>False</td>\n      <td>False</td>\n      <td>False</td>\n      <td>False</td>\n      <td>False</td>\n      <td>True</td>\n      <td>True</td>\n      <td>False</td>\n      <td>True</td>\n      <td>False</td>\n      <td>True</td>\n    </tr>\n    <tr>\n      <th>3</th>\n      <td>False</td>\n      <td>True</td>\n      <td>True</td>\n      <td>False</td>\n      <td>False</td>\n      <td>True</td>\n      <td>True</td>\n      <td>True</td>\n      <td>False</td>\n      <td>False</td>\n      <td>False</td>\n    </tr>\n    <tr>\n      <th>4</th>\n      <td>False</td>\n      <td>True</td>\n      <td>False</td>\n      <td>True</td>\n      <td>True</td>\n      <td>True</td>\n      <td>False</td>\n      <td>False</td>\n      <td>False</td>\n      <td>False</td>\n      <td>True</td>\n    </tr>\n  </tbody>\n</table>\n</div>"
     },
     "metadata": {},
     "execution_count": 2
    }
   ],
   "source": [
    "import pandas as pd\n",
    "from mlxtend.preprocessing import TransactionEncoder\n",
    "\n",
    "te = TransactionEncoder()\n",
    "te_arr = te.fit(dt).transform(dt)\n",
    "df = pd.DataFrame(te_arr, columns=te.columns_)\n",
    "df"
   ]
  },
  {
   "cell_type": "code",
   "execution_count": 3,
   "metadata": {},
   "outputs": [
    {
     "output_type": "execute_result",
     "data": {
      "text/plain": [
       "    support               itemsets\n",
       "0       0.6              (Cu_hanh)\n",
       "1       1.0                  (Keo)\n",
       "2       0.6                  (Sua)\n",
       "3       0.6             (Sua_chua)\n",
       "4       0.8                (Trung)\n",
       "5       0.6         (Cu_hanh, Keo)\n",
       "6       0.6       (Cu_hanh, Trung)\n",
       "7       0.6             (Sua, Keo)\n",
       "8       0.6        (Sua_chua, Keo)\n",
       "9       0.8           (Keo, Trung)\n",
       "10      0.6  (Cu_hanh, Keo, Trung)"
      ],
      "text/html": "<div>\n<style scoped>\n    .dataframe tbody tr th:only-of-type {\n        vertical-align: middle;\n    }\n\n    .dataframe tbody tr th {\n        vertical-align: top;\n    }\n\n    .dataframe thead th {\n        text-align: right;\n    }\n</style>\n<table border=\"1\" class=\"dataframe\">\n  <thead>\n    <tr style=\"text-align: right;\">\n      <th></th>\n      <th>support</th>\n      <th>itemsets</th>\n    </tr>\n  </thead>\n  <tbody>\n    <tr>\n      <th>0</th>\n      <td>0.6</td>\n      <td>(Cu_hanh)</td>\n    </tr>\n    <tr>\n      <th>1</th>\n      <td>1.0</td>\n      <td>(Keo)</td>\n    </tr>\n    <tr>\n      <th>2</th>\n      <td>0.6</td>\n      <td>(Sua)</td>\n    </tr>\n    <tr>\n      <th>3</th>\n      <td>0.6</td>\n      <td>(Sua_chua)</td>\n    </tr>\n    <tr>\n      <th>4</th>\n      <td>0.8</td>\n      <td>(Trung)</td>\n    </tr>\n    <tr>\n      <th>5</th>\n      <td>0.6</td>\n      <td>(Cu_hanh, Keo)</td>\n    </tr>\n    <tr>\n      <th>6</th>\n      <td>0.6</td>\n      <td>(Cu_hanh, Trung)</td>\n    </tr>\n    <tr>\n      <th>7</th>\n      <td>0.6</td>\n      <td>(Sua, Keo)</td>\n    </tr>\n    <tr>\n      <th>8</th>\n      <td>0.6</td>\n      <td>(Sua_chua, Keo)</td>\n    </tr>\n    <tr>\n      <th>9</th>\n      <td>0.8</td>\n      <td>(Keo, Trung)</td>\n    </tr>\n    <tr>\n      <th>10</th>\n      <td>0.6</td>\n      <td>(Cu_hanh, Keo, Trung)</td>\n    </tr>\n  </tbody>\n</table>\n</div>"
     },
     "metadata": {},
     "execution_count": 3
    }
   ],
   "source": [
    "from mlxtend.frequent_patterns import apriori\n",
    "from mlxtend.frequent_patterns import association_rules\n",
    "\n",
    "min_sup = 0.6\n",
    "\n",
    "freq_itemsets = apriori(df, min_support=min_sup, use_colnames=True)\n",
    "freq_itemsets"
   ]
  },
  {
   "cell_type": "code",
   "execution_count": 4,
   "metadata": {},
   "outputs": [
    {
     "output_type": "execute_result",
     "data": {
      "text/plain": [
       "    support               itemsets  length\n",
       "0       0.6              (Cu_hanh)       1\n",
       "1       1.0                  (Keo)       1\n",
       "2       0.6                  (Sua)       1\n",
       "3       0.6             (Sua_chua)       1\n",
       "4       0.8                (Trung)       1\n",
       "5       0.6         (Cu_hanh, Keo)       2\n",
       "6       0.6       (Cu_hanh, Trung)       2\n",
       "7       0.6             (Sua, Keo)       2\n",
       "8       0.6        (Sua_chua, Keo)       2\n",
       "9       0.8           (Keo, Trung)       2\n",
       "10      0.6  (Cu_hanh, Keo, Trung)       3"
      ],
      "text/html": "<div>\n<style scoped>\n    .dataframe tbody tr th:only-of-type {\n        vertical-align: middle;\n    }\n\n    .dataframe tbody tr th {\n        vertical-align: top;\n    }\n\n    .dataframe thead th {\n        text-align: right;\n    }\n</style>\n<table border=\"1\" class=\"dataframe\">\n  <thead>\n    <tr style=\"text-align: right;\">\n      <th></th>\n      <th>support</th>\n      <th>itemsets</th>\n      <th>length</th>\n    </tr>\n  </thead>\n  <tbody>\n    <tr>\n      <th>0</th>\n      <td>0.6</td>\n      <td>(Cu_hanh)</td>\n      <td>1</td>\n    </tr>\n    <tr>\n      <th>1</th>\n      <td>1.0</td>\n      <td>(Keo)</td>\n      <td>1</td>\n    </tr>\n    <tr>\n      <th>2</th>\n      <td>0.6</td>\n      <td>(Sua)</td>\n      <td>1</td>\n    </tr>\n    <tr>\n      <th>3</th>\n      <td>0.6</td>\n      <td>(Sua_chua)</td>\n      <td>1</td>\n    </tr>\n    <tr>\n      <th>4</th>\n      <td>0.8</td>\n      <td>(Trung)</td>\n      <td>1</td>\n    </tr>\n    <tr>\n      <th>5</th>\n      <td>0.6</td>\n      <td>(Cu_hanh, Keo)</td>\n      <td>2</td>\n    </tr>\n    <tr>\n      <th>6</th>\n      <td>0.6</td>\n      <td>(Cu_hanh, Trung)</td>\n      <td>2</td>\n    </tr>\n    <tr>\n      <th>7</th>\n      <td>0.6</td>\n      <td>(Sua, Keo)</td>\n      <td>2</td>\n    </tr>\n    <tr>\n      <th>8</th>\n      <td>0.6</td>\n      <td>(Sua_chua, Keo)</td>\n      <td>2</td>\n    </tr>\n    <tr>\n      <th>9</th>\n      <td>0.8</td>\n      <td>(Keo, Trung)</td>\n      <td>2</td>\n    </tr>\n    <tr>\n      <th>10</th>\n      <td>0.6</td>\n      <td>(Cu_hanh, Keo, Trung)</td>\n      <td>3</td>\n    </tr>\n  </tbody>\n</table>\n</div>"
     },
     "metadata": {},
     "execution_count": 4
    }
   ],
   "source": [
    "freq_itemsets['length'] = freq_itemsets['itemsets'].apply(lambda x: len(x))\n",
    "freq_itemsets"
   ]
  },
  {
   "cell_type": "code",
   "execution_count": 5,
   "metadata": {},
   "outputs": [
    {
     "output_type": "execute_result",
     "data": {
      "text/plain": [
       "   support      itemsets  length\n",
       "9      0.8  (Keo, Trung)       2"
      ],
      "text/html": "<div>\n<style scoped>\n    .dataframe tbody tr th:only-of-type {\n        vertical-align: middle;\n    }\n\n    .dataframe tbody tr th {\n        vertical-align: top;\n    }\n\n    .dataframe thead th {\n        text-align: right;\n    }\n</style>\n<table border=\"1\" class=\"dataframe\">\n  <thead>\n    <tr style=\"text-align: right;\">\n      <th></th>\n      <th>support</th>\n      <th>itemsets</th>\n      <th>length</th>\n    </tr>\n  </thead>\n  <tbody>\n    <tr>\n      <th>9</th>\n      <td>0.8</td>\n      <td>(Keo, Trung)</td>\n      <td>2</td>\n    </tr>\n  </tbody>\n</table>\n</div>"
     },
     "metadata": {},
     "execution_count": 5
    }
   ],
   "source": [
    "freq_itemsets[(freq_itemsets['length'] == 2) & (freq_itemsets['support'] >= 0.8)]"
   ]
  },
  {
   "cell_type": "code",
   "execution_count": 6,
   "metadata": {},
   "outputs": [
    {
     "output_type": "execute_result",
     "data": {
      "text/plain": [
       "   support          itemsets  length\n",
       "6      0.6  (Cu_hanh, Trung)       2"
      ],
      "text/html": "<div>\n<style scoped>\n    .dataframe tbody tr th:only-of-type {\n        vertical-align: middle;\n    }\n\n    .dataframe tbody tr th {\n        vertical-align: top;\n    }\n\n    .dataframe thead th {\n        text-align: right;\n    }\n</style>\n<table border=\"1\" class=\"dataframe\">\n  <thead>\n    <tr style=\"text-align: right;\">\n      <th></th>\n      <th>support</th>\n      <th>itemsets</th>\n      <th>length</th>\n    </tr>\n  </thead>\n  <tbody>\n    <tr>\n      <th>6</th>\n      <td>0.6</td>\n      <td>(Cu_hanh, Trung)</td>\n      <td>2</td>\n    </tr>\n  </tbody>\n</table>\n</div>"
     },
     "metadata": {},
     "execution_count": 6
    }
   ],
   "source": [
    "freq_itemsets[freq_itemsets['itemsets'] == {'Cu_hanh', 'Trung'}]"
   ]
  },
  {
   "cell_type": "code",
   "execution_count": 7,
   "metadata": {},
   "outputs": [
    {
     "output_type": "execute_result",
     "data": {
      "text/plain": [
       "         antecedents     consequents  antecedent support  consequent support  \\\n",
       "0          (Cu_hanh)           (Keo)                 0.6                 1.0   \n",
       "1          (Cu_hanh)         (Trung)                 0.6                 0.8   \n",
       "2            (Trung)       (Cu_hanh)                 0.8                 0.6   \n",
       "3              (Sua)           (Keo)                 0.6                 1.0   \n",
       "4         (Sua_chua)           (Keo)                 0.6                 1.0   \n",
       "5              (Keo)         (Trung)                 1.0                 0.8   \n",
       "6            (Trung)           (Keo)                 0.8                 1.0   \n",
       "7     (Cu_hanh, Keo)         (Trung)                 0.6                 0.8   \n",
       "8   (Cu_hanh, Trung)           (Keo)                 0.6                 1.0   \n",
       "9       (Keo, Trung)       (Cu_hanh)                 0.8                 0.6   \n",
       "10         (Cu_hanh)    (Keo, Trung)                 0.6                 0.8   \n",
       "11           (Trung)  (Cu_hanh, Keo)                 0.8                 0.6   \n",
       "\n",
       "    support  confidence  lift  leverage  conviction  \n",
       "0       0.6        1.00  1.00      0.00         inf  \n",
       "1       0.6        1.00  1.25      0.12         inf  \n",
       "2       0.6        0.75  1.25      0.12         1.6  \n",
       "3       0.6        1.00  1.00      0.00         inf  \n",
       "4       0.6        1.00  1.00      0.00         inf  \n",
       "5       0.8        0.80  1.00      0.00         1.0  \n",
       "6       0.8        1.00  1.00      0.00         inf  \n",
       "7       0.6        1.00  1.25      0.12         inf  \n",
       "8       0.6        1.00  1.00      0.00         inf  \n",
       "9       0.6        0.75  1.25      0.12         1.6  \n",
       "10      0.6        1.00  1.25      0.12         inf  \n",
       "11      0.6        0.75  1.25      0.12         1.6  "
      ],
      "text/html": "<div>\n<style scoped>\n    .dataframe tbody tr th:only-of-type {\n        vertical-align: middle;\n    }\n\n    .dataframe tbody tr th {\n        vertical-align: top;\n    }\n\n    .dataframe thead th {\n        text-align: right;\n    }\n</style>\n<table border=\"1\" class=\"dataframe\">\n  <thead>\n    <tr style=\"text-align: right;\">\n      <th></th>\n      <th>antecedents</th>\n      <th>consequents</th>\n      <th>antecedent support</th>\n      <th>consequent support</th>\n      <th>support</th>\n      <th>confidence</th>\n      <th>lift</th>\n      <th>leverage</th>\n      <th>conviction</th>\n    </tr>\n  </thead>\n  <tbody>\n    <tr>\n      <th>0</th>\n      <td>(Cu_hanh)</td>\n      <td>(Keo)</td>\n      <td>0.6</td>\n      <td>1.0</td>\n      <td>0.6</td>\n      <td>1.00</td>\n      <td>1.00</td>\n      <td>0.00</td>\n      <td>inf</td>\n    </tr>\n    <tr>\n      <th>1</th>\n      <td>(Cu_hanh)</td>\n      <td>(Trung)</td>\n      <td>0.6</td>\n      <td>0.8</td>\n      <td>0.6</td>\n      <td>1.00</td>\n      <td>1.25</td>\n      <td>0.12</td>\n      <td>inf</td>\n    </tr>\n    <tr>\n      <th>2</th>\n      <td>(Trung)</td>\n      <td>(Cu_hanh)</td>\n      <td>0.8</td>\n      <td>0.6</td>\n      <td>0.6</td>\n      <td>0.75</td>\n      <td>1.25</td>\n      <td>0.12</td>\n      <td>1.6</td>\n    </tr>\n    <tr>\n      <th>3</th>\n      <td>(Sua)</td>\n      <td>(Keo)</td>\n      <td>0.6</td>\n      <td>1.0</td>\n      <td>0.6</td>\n      <td>1.00</td>\n      <td>1.00</td>\n      <td>0.00</td>\n      <td>inf</td>\n    </tr>\n    <tr>\n      <th>4</th>\n      <td>(Sua_chua)</td>\n      <td>(Keo)</td>\n      <td>0.6</td>\n      <td>1.0</td>\n      <td>0.6</td>\n      <td>1.00</td>\n      <td>1.00</td>\n      <td>0.00</td>\n      <td>inf</td>\n    </tr>\n    <tr>\n      <th>5</th>\n      <td>(Keo)</td>\n      <td>(Trung)</td>\n      <td>1.0</td>\n      <td>0.8</td>\n      <td>0.8</td>\n      <td>0.80</td>\n      <td>1.00</td>\n      <td>0.00</td>\n      <td>1.0</td>\n    </tr>\n    <tr>\n      <th>6</th>\n      <td>(Trung)</td>\n      <td>(Keo)</td>\n      <td>0.8</td>\n      <td>1.0</td>\n      <td>0.8</td>\n      <td>1.00</td>\n      <td>1.00</td>\n      <td>0.00</td>\n      <td>inf</td>\n    </tr>\n    <tr>\n      <th>7</th>\n      <td>(Cu_hanh, Keo)</td>\n      <td>(Trung)</td>\n      <td>0.6</td>\n      <td>0.8</td>\n      <td>0.6</td>\n      <td>1.00</td>\n      <td>1.25</td>\n      <td>0.12</td>\n      <td>inf</td>\n    </tr>\n    <tr>\n      <th>8</th>\n      <td>(Cu_hanh, Trung)</td>\n      <td>(Keo)</td>\n      <td>0.6</td>\n      <td>1.0</td>\n      <td>0.6</td>\n      <td>1.00</td>\n      <td>1.00</td>\n      <td>0.00</td>\n      <td>inf</td>\n    </tr>\n    <tr>\n      <th>9</th>\n      <td>(Keo, Trung)</td>\n      <td>(Cu_hanh)</td>\n      <td>0.8</td>\n      <td>0.6</td>\n      <td>0.6</td>\n      <td>0.75</td>\n      <td>1.25</td>\n      <td>0.12</td>\n      <td>1.6</td>\n    </tr>\n    <tr>\n      <th>10</th>\n      <td>(Cu_hanh)</td>\n      <td>(Keo, Trung)</td>\n      <td>0.6</td>\n      <td>0.8</td>\n      <td>0.6</td>\n      <td>1.00</td>\n      <td>1.25</td>\n      <td>0.12</td>\n      <td>inf</td>\n    </tr>\n    <tr>\n      <th>11</th>\n      <td>(Trung)</td>\n      <td>(Cu_hanh, Keo)</td>\n      <td>0.8</td>\n      <td>0.6</td>\n      <td>0.6</td>\n      <td>0.75</td>\n      <td>1.25</td>\n      <td>0.12</td>\n      <td>1.6</td>\n    </tr>\n  </tbody>\n</table>\n</div>"
     },
     "metadata": {},
     "execution_count": 7
    }
   ],
   "source": [
    "association_rules(freq_itemsets, metric='confidence', min_threshold=0.7)"
   ]
  },
  {
   "cell_type": "code",
   "execution_count": 8,
   "metadata": {},
   "outputs": [
    {
     "output_type": "execute_result",
     "data": {
      "text/plain": [
       "      antecedents     consequents  antecedent support  consequent support  \\\n",
       "0       (Cu_hanh)         (Trung)                 0.6                 0.8   \n",
       "1         (Trung)       (Cu_hanh)                 0.8                 0.6   \n",
       "2  (Cu_hanh, Keo)         (Trung)                 0.6                 0.8   \n",
       "3    (Keo, Trung)       (Cu_hanh)                 0.8                 0.6   \n",
       "4       (Cu_hanh)    (Keo, Trung)                 0.6                 0.8   \n",
       "5         (Trung)  (Cu_hanh, Keo)                 0.8                 0.6   \n",
       "\n",
       "   support  confidence  lift  leverage  conviction  \n",
       "0      0.6        1.00  1.25      0.12         inf  \n",
       "1      0.6        0.75  1.25      0.12         1.6  \n",
       "2      0.6        1.00  1.25      0.12         inf  \n",
       "3      0.6        0.75  1.25      0.12         1.6  \n",
       "4      0.6        1.00  1.25      0.12         inf  \n",
       "5      0.6        0.75  1.25      0.12         1.6  "
      ],
      "text/html": "<div>\n<style scoped>\n    .dataframe tbody tr th:only-of-type {\n        vertical-align: middle;\n    }\n\n    .dataframe tbody tr th {\n        vertical-align: top;\n    }\n\n    .dataframe thead th {\n        text-align: right;\n    }\n</style>\n<table border=\"1\" class=\"dataframe\">\n  <thead>\n    <tr style=\"text-align: right;\">\n      <th></th>\n      <th>antecedents</th>\n      <th>consequents</th>\n      <th>antecedent support</th>\n      <th>consequent support</th>\n      <th>support</th>\n      <th>confidence</th>\n      <th>lift</th>\n      <th>leverage</th>\n      <th>conviction</th>\n    </tr>\n  </thead>\n  <tbody>\n    <tr>\n      <th>0</th>\n      <td>(Cu_hanh)</td>\n      <td>(Trung)</td>\n      <td>0.6</td>\n      <td>0.8</td>\n      <td>0.6</td>\n      <td>1.00</td>\n      <td>1.25</td>\n      <td>0.12</td>\n      <td>inf</td>\n    </tr>\n    <tr>\n      <th>1</th>\n      <td>(Trung)</td>\n      <td>(Cu_hanh)</td>\n      <td>0.8</td>\n      <td>0.6</td>\n      <td>0.6</td>\n      <td>0.75</td>\n      <td>1.25</td>\n      <td>0.12</td>\n      <td>1.6</td>\n    </tr>\n    <tr>\n      <th>2</th>\n      <td>(Cu_hanh, Keo)</td>\n      <td>(Trung)</td>\n      <td>0.6</td>\n      <td>0.8</td>\n      <td>0.6</td>\n      <td>1.00</td>\n      <td>1.25</td>\n      <td>0.12</td>\n      <td>inf</td>\n    </tr>\n    <tr>\n      <th>3</th>\n      <td>(Keo, Trung)</td>\n      <td>(Cu_hanh)</td>\n      <td>0.8</td>\n      <td>0.6</td>\n      <td>0.6</td>\n      <td>0.75</td>\n      <td>1.25</td>\n      <td>0.12</td>\n      <td>1.6</td>\n    </tr>\n    <tr>\n      <th>4</th>\n      <td>(Cu_hanh)</td>\n      <td>(Keo, Trung)</td>\n      <td>0.6</td>\n      <td>0.8</td>\n      <td>0.6</td>\n      <td>1.00</td>\n      <td>1.25</td>\n      <td>0.12</td>\n      <td>inf</td>\n    </tr>\n    <tr>\n      <th>5</th>\n      <td>(Trung)</td>\n      <td>(Cu_hanh, Keo)</td>\n      <td>0.8</td>\n      <td>0.6</td>\n      <td>0.6</td>\n      <td>0.75</td>\n      <td>1.25</td>\n      <td>0.12</td>\n      <td>1.6</td>\n    </tr>\n  </tbody>\n</table>\n</div>"
     },
     "metadata": {},
     "execution_count": 8
    }
   ],
   "source": [
    "rules = association_rules(freq_itemsets, metric='lift', min_threshold=1.2)\n",
    "rules"
   ]
  },
  {
   "cell_type": "code",
   "execution_count": 9,
   "metadata": {},
   "outputs": [
    {
     "output_type": "execute_result",
     "data": {
      "text/plain": [
       "  antecedents     consequents  antecedent support  consequent support  \\\n",
       "1     (Trung)       (Cu_hanh)                 0.8                 0.6   \n",
       "5     (Trung)  (Cu_hanh, Keo)                 0.8                 0.6   \n",
       "\n",
       "   support  confidence  lift  leverage  conviction  \n",
       "1      0.6        0.75  1.25      0.12         1.6  \n",
       "5      0.6        0.75  1.25      0.12         1.6  "
      ],
      "text/html": "<div>\n<style scoped>\n    .dataframe tbody tr th:only-of-type {\n        vertical-align: middle;\n    }\n\n    .dataframe tbody tr th {\n        vertical-align: top;\n    }\n\n    .dataframe thead th {\n        text-align: right;\n    }\n</style>\n<table border=\"1\" class=\"dataframe\">\n  <thead>\n    <tr style=\"text-align: right;\">\n      <th></th>\n      <th>antecedents</th>\n      <th>consequents</th>\n      <th>antecedent support</th>\n      <th>consequent support</th>\n      <th>support</th>\n      <th>confidence</th>\n      <th>lift</th>\n      <th>leverage</th>\n      <th>conviction</th>\n    </tr>\n  </thead>\n  <tbody>\n    <tr>\n      <th>1</th>\n      <td>(Trung)</td>\n      <td>(Cu_hanh)</td>\n      <td>0.8</td>\n      <td>0.6</td>\n      <td>0.6</td>\n      <td>0.75</td>\n      <td>1.25</td>\n      <td>0.12</td>\n      <td>1.6</td>\n    </tr>\n    <tr>\n      <th>5</th>\n      <td>(Trung)</td>\n      <td>(Cu_hanh, Keo)</td>\n      <td>0.8</td>\n      <td>0.6</td>\n      <td>0.6</td>\n      <td>0.75</td>\n      <td>1.25</td>\n      <td>0.12</td>\n      <td>1.6</td>\n    </tr>\n  </tbody>\n</table>\n</div>"
     },
     "metadata": {},
     "execution_count": 9
    }
   ],
   "source": [
    "rules[rules['antecedents'] == {'Trung'}]"
   ]
  }
 ]
}