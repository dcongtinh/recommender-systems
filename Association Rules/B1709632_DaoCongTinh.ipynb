{
 "metadata": {
  "language_info": {
   "codemirror_mode": {
    "name": "ipython",
    "version": 3
   },
   "file_extension": ".py",
   "mimetype": "text/x-python",
   "name": "python",
   "nbconvert_exporter": "python",
   "pygments_lexer": "ipython3",
   "version": "3.6.8-final"
  },
  "orig_nbformat": 2,
  "kernelspec": {
   "name": "python3",
   "display_name": "Python 3.6.8 64-bit",
   "metadata": {
    "interpreter": {
     "hash": "aee8b7b246df8f9039afb4144a1f6fd8d2ca17a180786b69acc140d282b71a49"
    }
   }
  }
 },
 "nbformat": 4,
 "nbformat_minor": 2,
 "cells": [
  {
   "source": [
    "## 1.1 Đọc dữ liệu"
   ],
   "cell_type": "markdown",
   "metadata": {}
  },
  {
   "source": [
    "import pandas as pd\n",
    "\n",
    "# Import details.csv\n",
    "dt = pd.read_csv('details.csv')\n",
    "\n",
    "# Sort by bill_id\n",
    "dt = dt.sort_values('bill_id')\n",
    "dt"
   ],
   "cell_type": "code",
   "metadata": {},
   "execution_count": 1,
   "outputs": [
    {
     "output_type": "execute_result",
     "data": {
      "text/plain": [
       "       bill_id          item_name   quantity   price\n",
       "0            1  Rau Luộc Thập Cẩm          1    39.0\n",
       "43626        1           Bún thêm          1     5.0\n",
       "43627        1   Cơm Rang Hãi Sãn          1    79.0\n",
       "43628        1        Mực Pattaya          1    69.0\n",
       "43629        1      .Tàu Hủ Sã Ớt          1    39.0\n",
       "...        ...                ...        ...     ...\n",
       "42726     4608         Sai Gòn Đỏ         12    11.0\n",
       "20914     4608         Sai Gòn Đỏ         12    11.0\n",
       "20913     4608    Sài Gòn special          1    15.0\n",
       "64538     4608         Sai Gòn Đỏ         12    11.0\n",
       "64537     4608    Sài Gòn special          1    15.0\n",
       "\n",
       "[65436 rows x 4 columns]"
      ],
      "text/html": "<div>\n<style scoped>\n    .dataframe tbody tr th:only-of-type {\n        vertical-align: middle;\n    }\n\n    .dataframe tbody tr th {\n        vertical-align: top;\n    }\n\n    .dataframe thead th {\n        text-align: right;\n    }\n</style>\n<table border=\"1\" class=\"dataframe\">\n  <thead>\n    <tr style=\"text-align: right;\">\n      <th></th>\n      <th>bill_id</th>\n      <th>item_name</th>\n      <th>quantity</th>\n      <th>price</th>\n    </tr>\n  </thead>\n  <tbody>\n    <tr>\n      <th>0</th>\n      <td>1</td>\n      <td>Rau Luộc Thập Cẩm</td>\n      <td>1</td>\n      <td>39.0</td>\n    </tr>\n    <tr>\n      <th>43626</th>\n      <td>1</td>\n      <td>Bún thêm</td>\n      <td>1</td>\n      <td>5.0</td>\n    </tr>\n    <tr>\n      <th>43627</th>\n      <td>1</td>\n      <td>Cơm Rang Hãi Sãn</td>\n      <td>1</td>\n      <td>79.0</td>\n    </tr>\n    <tr>\n      <th>43628</th>\n      <td>1</td>\n      <td>Mực Pattaya</td>\n      <td>1</td>\n      <td>69.0</td>\n    </tr>\n    <tr>\n      <th>43629</th>\n      <td>1</td>\n      <td>.Tàu Hủ Sã Ớt</td>\n      <td>1</td>\n      <td>39.0</td>\n    </tr>\n    <tr>\n      <th>...</th>\n      <td>...</td>\n      <td>...</td>\n      <td>...</td>\n      <td>...</td>\n    </tr>\n    <tr>\n      <th>42726</th>\n      <td>4608</td>\n      <td>Sai Gòn Đỏ</td>\n      <td>12</td>\n      <td>11.0</td>\n    </tr>\n    <tr>\n      <th>20914</th>\n      <td>4608</td>\n      <td>Sai Gòn Đỏ</td>\n      <td>12</td>\n      <td>11.0</td>\n    </tr>\n    <tr>\n      <th>20913</th>\n      <td>4608</td>\n      <td>Sài Gòn special</td>\n      <td>1</td>\n      <td>15.0</td>\n    </tr>\n    <tr>\n      <th>64538</th>\n      <td>4608</td>\n      <td>Sai Gòn Đỏ</td>\n      <td>12</td>\n      <td>11.0</td>\n    </tr>\n    <tr>\n      <th>64537</th>\n      <td>4608</td>\n      <td>Sài Gòn special</td>\n      <td>1</td>\n      <td>15.0</td>\n    </tr>\n  </tbody>\n</table>\n<p>65436 rows × 4 columns</p>\n</div>"
     },
     "metadata": {},
     "execution_count": 1
    }
   ]
  },
  {
   "source": [
    "## 1.2 Tiền xử lý dữ liệu"
   ],
   "cell_type": "markdown",
   "metadata": {}
  },
  {
   "cell_type": "code",
   "execution_count": 2,
   "metadata": {},
   "outputs": [
    {
     "output_type": "execute_result",
     "data": {
      "text/plain": [
       "                                                 item_name\n",
       "bill_id                                                   \n",
       "1        [.Tàu Hủ Sã Ớt, Bún thêm, Cơm Rang Hãi Sãn, He...\n",
       "2                    [Gà Nia, Mực Pattaya, Nước Ngọt.Suối]\n",
       "3        [Cơm Rang Hãi Sãn, Lẫu Gà Chanh Ớt, Mực Pattay...\n",
       "4        [Bò Lúc Lắc Khoai Tây, Cơm Rang Cá Mặn, Gà Nia...\n",
       "5        [Bao Tử Cá Chiên Giòn, Bún thêm, Lẫu Thái, Mực...\n",
       "...                                                    ...\n",
       "4604     [.Mì thêm, Bao Tử Cá Chiên Giòn, Bò cuộn phô m...\n",
       "4605           [Beck's, Mực Hấp Gừng, Tiger Nâu, Ếch sapo]\n",
       "4606     [Cá Đuối Nướng Lá Lốt, Gỏi SonTamThái Bò, Hein...\n",
       "4607          [Cơm Trắng, Lẫu Gà Chanh Ớt, Nước Ngọt.Suối]\n",
       "4608                         [Sai Gòn Đỏ, Sài Gòn special]\n",
       "\n",
       "[4608 rows x 1 columns]"
      ],
      "text/html": "<div>\n<style scoped>\n    .dataframe tbody tr th:only-of-type {\n        vertical-align: middle;\n    }\n\n    .dataframe tbody tr th {\n        vertical-align: top;\n    }\n\n    .dataframe thead th {\n        text-align: right;\n    }\n</style>\n<table border=\"1\" class=\"dataframe\">\n  <thead>\n    <tr style=\"text-align: right;\">\n      <th></th>\n      <th>item_name</th>\n    </tr>\n    <tr>\n      <th>bill_id</th>\n      <th></th>\n    </tr>\n  </thead>\n  <tbody>\n    <tr>\n      <th>1</th>\n      <td>[.Tàu Hủ Sã Ớt, Bún thêm, Cơm Rang Hãi Sãn, He...</td>\n    </tr>\n    <tr>\n      <th>2</th>\n      <td>[Gà Nia, Mực Pattaya, Nước Ngọt.Suối]</td>\n    </tr>\n    <tr>\n      <th>3</th>\n      <td>[Cơm Rang Hãi Sãn, Lẫu Gà Chanh Ớt, Mực Pattay...</td>\n    </tr>\n    <tr>\n      <th>4</th>\n      <td>[Bò Lúc Lắc Khoai Tây, Cơm Rang Cá Mặn, Gà Nia...</td>\n    </tr>\n    <tr>\n      <th>5</th>\n      <td>[Bao Tử Cá Chiên Giòn, Bún thêm, Lẫu Thái, Mực...</td>\n    </tr>\n    <tr>\n      <th>...</th>\n      <td>...</td>\n    </tr>\n    <tr>\n      <th>4604</th>\n      <td>[.Mì thêm, Bao Tử Cá Chiên Giòn, Bò cuộn phô m...</td>\n    </tr>\n    <tr>\n      <th>4605</th>\n      <td>[Beck's, Mực Hấp Gừng, Tiger Nâu, Ếch sapo]</td>\n    </tr>\n    <tr>\n      <th>4606</th>\n      <td>[Cá Đuối Nướng Lá Lốt, Gỏi SonTamThái Bò, Hein...</td>\n    </tr>\n    <tr>\n      <th>4607</th>\n      <td>[Cơm Trắng, Lẫu Gà Chanh Ớt, Nước Ngọt.Suối]</td>\n    </tr>\n    <tr>\n      <th>4608</th>\n      <td>[Sai Gòn Đỏ, Sài Gòn special]</td>\n    </tr>\n  </tbody>\n</table>\n<p>4608 rows × 1 columns</p>\n</div>"
     },
     "metadata": {},
     "execution_count": 2
    }
   ],
   "source": [
    "import numpy as np\n",
    "_dt = dt.groupby(['bill_id']).agg({' item_name': lambda x : list(np.unique(x))})\n",
    "_dt"
   ]
  },
  {
   "cell_type": "code",
   "execution_count": 3,
   "metadata": {},
   "outputs": [],
   "source": [
    "dt_preprocessed = list(_dt[' item_name'])"
   ]
  },
  {
   "source": [
    "## 2. Tìm các frequent itemsets"
   ],
   "cell_type": "markdown",
   "metadata": {}
  },
  {
   "cell_type": "code",
   "execution_count": 4,
   "metadata": {},
   "outputs": [],
   "source": [
    "import pandas as pd\n",
    "from mlxtend.preprocessing import TransactionEncoder\n",
    "\n",
    "te = TransactionEncoder()\n",
    "te_arr = te.fit(dt_preprocessed).transform(dt_preprocessed)\n",
    "df = pd.DataFrame(te_arr, columns=te.columns_)"
   ]
  },
  {
   "cell_type": "code",
   "execution_count": 5,
   "metadata": {},
   "outputs": [
    {
     "output_type": "execute_result",
     "data": {
      "text/plain": [
       "      .Mì thêm  .Rau Thêm Lẫu  .Sụn Gà Chiên Nước Mắm  .Sụn Gà Cháy Tỏi  \\\n",
       "0        False          False                   False             False   \n",
       "1        False          False                   False             False   \n",
       "2        False          False                   False             False   \n",
       "3        False          False                   False             False   \n",
       "4        False          False                   False             False   \n",
       "...        ...            ...                     ...               ...   \n",
       "4603      True          False                   False             False   \n",
       "4604     False          False                   False             False   \n",
       "4605     False          False                   False             False   \n",
       "4606     False          False                   False             False   \n",
       "4607     False          False                   False             False   \n",
       "\n",
       "      .Tàu Hủ Sã Ớt  .Ốc Hấp Thái  .Ốc Hấp Tiêu  .Ốc Hấp Xả  .Ốc Nướng Tiêu  \\\n",
       "0              True         False         False       False           False   \n",
       "1             False         False         False       False           False   \n",
       "2             False         False         False       False           False   \n",
       "3             False         False         False       False           False   \n",
       "4             False         False         False       False           False   \n",
       "...             ...           ...           ...         ...             ...   \n",
       "4603          False         False         False       False           False   \n",
       "4604          False         False         False       False           False   \n",
       "4605          False         False         False       False           False   \n",
       "4606          False         False         False       False           False   \n",
       "4607          False         False         False       False           False   \n",
       "\n",
       "      Ba Khía Thêm  ...  Ếch Nướng Muối Ớt  Ếch Thêm Lẩu Ếch  Ếch Xào Lăn  \\\n",
       "0            False  ...              False             False        False   \n",
       "1            False  ...              False             False        False   \n",
       "2            False  ...              False             False        False   \n",
       "3            False  ...              False             False        False   \n",
       "4            False  ...              False             False        False   \n",
       "...            ...  ...                ...               ...          ...   \n",
       "4603         False  ...              False             False        False   \n",
       "4604         False  ...              False             False        False   \n",
       "4605         False  ...              False             False        False   \n",
       "4606         False  ...              False             False        False   \n",
       "4607         False  ...              False             False        False   \n",
       "\n",
       "      Ếch Xào Sate  Ếch Xào Xã Ớt  Ếch sapo  Ốc Bưu Quay Lu  \\\n",
       "0            False          False     False           False   \n",
       "1            False          False     False           False   \n",
       "2            False          False     False            True   \n",
       "3            False          False     False            True   \n",
       "4            False          False     False           False   \n",
       "...            ...            ...       ...             ...   \n",
       "4603         False          False     False           False   \n",
       "4604         False          False      True           False   \n",
       "4605         False          False     False           False   \n",
       "4606         False          False     False           False   \n",
       "4607         False          False     False           False   \n",
       "\n",
       "      Ốc Hấp Thái shock  Ốc Hấp Tiêu shock  Ớt Chiên Giòn  \n",
       "0                 False              False          False  \n",
       "1                 False              False          False  \n",
       "2                 False              False          False  \n",
       "3                 False              False          False  \n",
       "4                 False              False          False  \n",
       "...                 ...                ...            ...  \n",
       "4603              False              False          False  \n",
       "4604              False              False          False  \n",
       "4605              False              False          False  \n",
       "4606              False              False          False  \n",
       "4607              False              False          False  \n",
       "\n",
       "[4608 rows x 238 columns]"
      ],
      "text/html": "<div>\n<style scoped>\n    .dataframe tbody tr th:only-of-type {\n        vertical-align: middle;\n    }\n\n    .dataframe tbody tr th {\n        vertical-align: top;\n    }\n\n    .dataframe thead th {\n        text-align: right;\n    }\n</style>\n<table border=\"1\" class=\"dataframe\">\n  <thead>\n    <tr style=\"text-align: right;\">\n      <th></th>\n      <th>.Mì thêm</th>\n      <th>.Rau Thêm Lẫu</th>\n      <th>.Sụn Gà Chiên Nước Mắm</th>\n      <th>.Sụn Gà Cháy Tỏi</th>\n      <th>.Tàu Hủ Sã Ớt</th>\n      <th>.Ốc Hấp Thái</th>\n      <th>.Ốc Hấp Tiêu</th>\n      <th>.Ốc Hấp Xả</th>\n      <th>.Ốc Nướng Tiêu</th>\n      <th>Ba Khía Thêm</th>\n      <th>...</th>\n      <th>Ếch Nướng Muối Ớt</th>\n      <th>Ếch Thêm Lẩu Ếch</th>\n      <th>Ếch Xào Lăn</th>\n      <th>Ếch Xào Sate</th>\n      <th>Ếch Xào Xã Ớt</th>\n      <th>Ếch sapo</th>\n      <th>Ốc Bưu Quay Lu</th>\n      <th>Ốc Hấp Thái shock</th>\n      <th>Ốc Hấp Tiêu shock</th>\n      <th>Ớt Chiên Giòn</th>\n    </tr>\n  </thead>\n  <tbody>\n    <tr>\n      <th>0</th>\n      <td>False</td>\n      <td>False</td>\n      <td>False</td>\n      <td>False</td>\n      <td>True</td>\n      <td>False</td>\n      <td>False</td>\n      <td>False</td>\n      <td>False</td>\n      <td>False</td>\n      <td>...</td>\n      <td>False</td>\n      <td>False</td>\n      <td>False</td>\n      <td>False</td>\n      <td>False</td>\n      <td>False</td>\n      <td>False</td>\n      <td>False</td>\n      <td>False</td>\n      <td>False</td>\n    </tr>\n    <tr>\n      <th>1</th>\n      <td>False</td>\n      <td>False</td>\n      <td>False</td>\n      <td>False</td>\n      <td>False</td>\n      <td>False</td>\n      <td>False</td>\n      <td>False</td>\n      <td>False</td>\n      <td>False</td>\n      <td>...</td>\n      <td>False</td>\n      <td>False</td>\n      <td>False</td>\n      <td>False</td>\n      <td>False</td>\n      <td>False</td>\n      <td>False</td>\n      <td>False</td>\n      <td>False</td>\n      <td>False</td>\n    </tr>\n    <tr>\n      <th>2</th>\n      <td>False</td>\n      <td>False</td>\n      <td>False</td>\n      <td>False</td>\n      <td>False</td>\n      <td>False</td>\n      <td>False</td>\n      <td>False</td>\n      <td>False</td>\n      <td>False</td>\n      <td>...</td>\n      <td>False</td>\n      <td>False</td>\n      <td>False</td>\n      <td>False</td>\n      <td>False</td>\n      <td>False</td>\n      <td>True</td>\n      <td>False</td>\n      <td>False</td>\n      <td>False</td>\n    </tr>\n    <tr>\n      <th>3</th>\n      <td>False</td>\n      <td>False</td>\n      <td>False</td>\n      <td>False</td>\n      <td>False</td>\n      <td>False</td>\n      <td>False</td>\n      <td>False</td>\n      <td>False</td>\n      <td>False</td>\n      <td>...</td>\n      <td>False</td>\n      <td>False</td>\n      <td>False</td>\n      <td>False</td>\n      <td>False</td>\n      <td>False</td>\n      <td>True</td>\n      <td>False</td>\n      <td>False</td>\n      <td>False</td>\n    </tr>\n    <tr>\n      <th>4</th>\n      <td>False</td>\n      <td>False</td>\n      <td>False</td>\n      <td>False</td>\n      <td>False</td>\n      <td>False</td>\n      <td>False</td>\n      <td>False</td>\n      <td>False</td>\n      <td>False</td>\n      <td>...</td>\n      <td>False</td>\n      <td>False</td>\n      <td>False</td>\n      <td>False</td>\n      <td>False</td>\n      <td>False</td>\n      <td>False</td>\n      <td>False</td>\n      <td>False</td>\n      <td>False</td>\n    </tr>\n    <tr>\n      <th>...</th>\n      <td>...</td>\n      <td>...</td>\n      <td>...</td>\n      <td>...</td>\n      <td>...</td>\n      <td>...</td>\n      <td>...</td>\n      <td>...</td>\n      <td>...</td>\n      <td>...</td>\n      <td>...</td>\n      <td>...</td>\n      <td>...</td>\n      <td>...</td>\n      <td>...</td>\n      <td>...</td>\n      <td>...</td>\n      <td>...</td>\n      <td>...</td>\n      <td>...</td>\n      <td>...</td>\n    </tr>\n    <tr>\n      <th>4603</th>\n      <td>True</td>\n      <td>False</td>\n      <td>False</td>\n      <td>False</td>\n      <td>False</td>\n      <td>False</td>\n      <td>False</td>\n      <td>False</td>\n      <td>False</td>\n      <td>False</td>\n      <td>...</td>\n      <td>False</td>\n      <td>False</td>\n      <td>False</td>\n      <td>False</td>\n      <td>False</td>\n      <td>False</td>\n      <td>False</td>\n      <td>False</td>\n      <td>False</td>\n      <td>False</td>\n    </tr>\n    <tr>\n      <th>4604</th>\n      <td>False</td>\n      <td>False</td>\n      <td>False</td>\n      <td>False</td>\n      <td>False</td>\n      <td>False</td>\n      <td>False</td>\n      <td>False</td>\n      <td>False</td>\n      <td>False</td>\n      <td>...</td>\n      <td>False</td>\n      <td>False</td>\n      <td>False</td>\n      <td>False</td>\n      <td>False</td>\n      <td>True</td>\n      <td>False</td>\n      <td>False</td>\n      <td>False</td>\n      <td>False</td>\n    </tr>\n    <tr>\n      <th>4605</th>\n      <td>False</td>\n      <td>False</td>\n      <td>False</td>\n      <td>False</td>\n      <td>False</td>\n      <td>False</td>\n      <td>False</td>\n      <td>False</td>\n      <td>False</td>\n      <td>False</td>\n      <td>...</td>\n      <td>False</td>\n      <td>False</td>\n      <td>False</td>\n      <td>False</td>\n      <td>False</td>\n      <td>False</td>\n      <td>False</td>\n      <td>False</td>\n      <td>False</td>\n      <td>False</td>\n    </tr>\n    <tr>\n      <th>4606</th>\n      <td>False</td>\n      <td>False</td>\n      <td>False</td>\n      <td>False</td>\n      <td>False</td>\n      <td>False</td>\n      <td>False</td>\n      <td>False</td>\n      <td>False</td>\n      <td>False</td>\n      <td>...</td>\n      <td>False</td>\n      <td>False</td>\n      <td>False</td>\n      <td>False</td>\n      <td>False</td>\n      <td>False</td>\n      <td>False</td>\n      <td>False</td>\n      <td>False</td>\n      <td>False</td>\n    </tr>\n    <tr>\n      <th>4607</th>\n      <td>False</td>\n      <td>False</td>\n      <td>False</td>\n      <td>False</td>\n      <td>False</td>\n      <td>False</td>\n      <td>False</td>\n      <td>False</td>\n      <td>False</td>\n      <td>False</td>\n      <td>...</td>\n      <td>False</td>\n      <td>False</td>\n      <td>False</td>\n      <td>False</td>\n      <td>False</td>\n      <td>False</td>\n      <td>False</td>\n      <td>False</td>\n      <td>False</td>\n      <td>False</td>\n    </tr>\n  </tbody>\n</table>\n<p>4608 rows × 238 columns</p>\n</div>"
     },
     "metadata": {},
     "execution_count": 5
    }
   ],
   "source": [
    "df"
   ]
  },
  {
   "cell_type": "code",
   "execution_count": 6,
   "metadata": {},
   "outputs": [
    {
     "output_type": "execute_result",
     "data": {
      "text/plain": [
       "    support                       itemsets\n",
       "0  0.518012                  (Mực Pattaya)\n",
       "1  0.646484               (Nước Ngọt.Suối)\n",
       "2  0.360894  (Mực Pattaya, Nước Ngọt.Suối)"
      ],
      "text/html": "<div>\n<style scoped>\n    .dataframe tbody tr th:only-of-type {\n        vertical-align: middle;\n    }\n\n    .dataframe tbody tr th {\n        vertical-align: top;\n    }\n\n    .dataframe thead th {\n        text-align: right;\n    }\n</style>\n<table border=\"1\" class=\"dataframe\">\n  <thead>\n    <tr style=\"text-align: right;\">\n      <th></th>\n      <th>support</th>\n      <th>itemsets</th>\n    </tr>\n  </thead>\n  <tbody>\n    <tr>\n      <th>0</th>\n      <td>0.518012</td>\n      <td>(Mực Pattaya)</td>\n    </tr>\n    <tr>\n      <th>1</th>\n      <td>0.646484</td>\n      <td>(Nước Ngọt.Suối)</td>\n    </tr>\n    <tr>\n      <th>2</th>\n      <td>0.360894</td>\n      <td>(Mực Pattaya, Nước Ngọt.Suối)</td>\n    </tr>\n  </tbody>\n</table>\n</div>"
     },
     "metadata": {},
     "execution_count": 6
    }
   ],
   "source": [
    "from mlxtend.frequent_patterns import apriori\n",
    "from mlxtend.frequent_patterns import association_rules\n",
    "\n",
    "min_sup = 0.3\n",
    "\n",
    "freq_itemsets = apriori(df, min_support=min_sup, use_colnames=True)\n",
    "freq_itemsets"
   ]
  },
  {
   "cell_type": "code",
   "execution_count": 7,
   "metadata": {},
   "outputs": [
    {
     "output_type": "execute_result",
     "data": {
      "text/plain": [
       "    support                       itemsets  length\n",
       "0  0.518012                  (Mực Pattaya)       1\n",
       "1  0.646484               (Nước Ngọt.Suối)       1\n",
       "2  0.360894  (Mực Pattaya, Nước Ngọt.Suối)       2"
      ],
      "text/html": "<div>\n<style scoped>\n    .dataframe tbody tr th:only-of-type {\n        vertical-align: middle;\n    }\n\n    .dataframe tbody tr th {\n        vertical-align: top;\n    }\n\n    .dataframe thead th {\n        text-align: right;\n    }\n</style>\n<table border=\"1\" class=\"dataframe\">\n  <thead>\n    <tr style=\"text-align: right;\">\n      <th></th>\n      <th>support</th>\n      <th>itemsets</th>\n      <th>length</th>\n    </tr>\n  </thead>\n  <tbody>\n    <tr>\n      <th>0</th>\n      <td>0.518012</td>\n      <td>(Mực Pattaya)</td>\n      <td>1</td>\n    </tr>\n    <tr>\n      <th>1</th>\n      <td>0.646484</td>\n      <td>(Nước Ngọt.Suối)</td>\n      <td>1</td>\n    </tr>\n    <tr>\n      <th>2</th>\n      <td>0.360894</td>\n      <td>(Mực Pattaya, Nước Ngọt.Suối)</td>\n      <td>2</td>\n    </tr>\n  </tbody>\n</table>\n</div>"
     },
     "metadata": {},
     "execution_count": 7
    }
   ],
   "source": [
    "freq_itemsets['length'] = freq_itemsets['itemsets'].apply(lambda x: len(x))\n",
    "freq_itemsets"
   ]
  },
  {
   "source": [
    "## 3. Sinh luật"
   ],
   "cell_type": "markdown",
   "metadata": {}
  },
  {
   "cell_type": "code",
   "execution_count": 8,
   "metadata": {},
   "outputs": [
    {
     "output_type": "execute_result",
     "data": {
      "text/plain": [
       "        antecedents       consequents  antecedent support  consequent support  \\\n",
       "0     (Mực Pattaya)  (Nước Ngọt.Suối)            0.518012            0.646484   \n",
       "1  (Nước Ngọt.Suối)     (Mực Pattaya)            0.646484            0.518012   \n",
       "\n",
       "    support  confidence     lift  leverage  conviction  \n",
       "0  0.360894    0.696690  1.07766  0.026007    1.165527  \n",
       "1  0.360894    0.558241  1.07766  0.026007    1.091065  "
      ],
      "text/html": "<div>\n<style scoped>\n    .dataframe tbody tr th:only-of-type {\n        vertical-align: middle;\n    }\n\n    .dataframe tbody tr th {\n        vertical-align: top;\n    }\n\n    .dataframe thead th {\n        text-align: right;\n    }\n</style>\n<table border=\"1\" class=\"dataframe\">\n  <thead>\n    <tr style=\"text-align: right;\">\n      <th></th>\n      <th>antecedents</th>\n      <th>consequents</th>\n      <th>antecedent support</th>\n      <th>consequent support</th>\n      <th>support</th>\n      <th>confidence</th>\n      <th>lift</th>\n      <th>leverage</th>\n      <th>conviction</th>\n    </tr>\n  </thead>\n  <tbody>\n    <tr>\n      <th>0</th>\n      <td>(Mực Pattaya)</td>\n      <td>(Nước Ngọt.Suối)</td>\n      <td>0.518012</td>\n      <td>0.646484</td>\n      <td>0.360894</td>\n      <td>0.696690</td>\n      <td>1.07766</td>\n      <td>0.026007</td>\n      <td>1.165527</td>\n    </tr>\n    <tr>\n      <th>1</th>\n      <td>(Nước Ngọt.Suối)</td>\n      <td>(Mực Pattaya)</td>\n      <td>0.646484</td>\n      <td>0.518012</td>\n      <td>0.360894</td>\n      <td>0.558241</td>\n      <td>1.07766</td>\n      <td>0.026007</td>\n      <td>1.091065</td>\n    </tr>\n  </tbody>\n</table>\n</div>"
     },
     "metadata": {},
     "execution_count": 8
    }
   ],
   "source": [
    "rules = association_rules(freq_itemsets, metric='confidence', min_threshold=0.5)\n",
    "rules"
   ]
  },
  {
   "source": [
    "## 4. Danh sách gợi ý"
   ],
   "cell_type": "markdown",
   "metadata": {}
  },
  {
   "cell_type": "code",
   "execution_count": 9,
   "metadata": {},
   "outputs": [
    {
     "output_type": "stream",
     "name": "stdout",
     "text": [
      "Requirement already satisfied: prettytable in /Library/Frameworks/Python.framework/Versions/3.6/lib/python3.6/site-packages (0.7.2)\n",
      "+----------------+----------------+\n",
      "|                | Gợi ý          |\n",
      "+----------------+----------------+\n",
      "| Mực Pattaya    | Nước Ngọt.Suối |\n",
      "| Nước Ngọt.Suối | Mực Pattaya    |\n",
      "+----------------+----------------+\n"
     ]
    }
   ],
   "source": [
    "!pip install prettytable\n",
    "from prettytable import PrettyTable\n",
    "\n",
    "table = PrettyTable(['', 'Gợi ý'])\n",
    "table.align[''] = 'l'\n",
    "table.align['Gợi ý'] = 'l'\n",
    "\n",
    "for x, y in rules['antecedents'], rules['consequents']:\n",
    "    table.add_row(['%s'.join(x), '%s'.join(y)])\n",
    "\n",
    "print(table)"
   ]
  },
  {
   "cell_type": "code",
   "execution_count": null,
   "metadata": {},
   "outputs": [],
   "source": []
  }
 ]
}